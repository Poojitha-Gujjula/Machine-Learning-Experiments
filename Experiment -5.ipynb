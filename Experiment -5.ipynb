{
 "cells": [
  {
   "cell_type": "markdown",
   "id": "7989255a",
   "metadata": {},
   "source": [
    "**Exp : 5** Use Cars.csv data to fit a pruned decision tree model with optimal cost complexity parameters, use encoding to create dummy variables categorical variable use one hot .Generate a random sample of size 200 from the cars data, Fit a fully grown decision tree and pruned decision tree.Generate a random sample of size 200 from the cars data. Fit a fully grown Decision tree and Pruned Decision tree to predict MPG.For a fixed test observation get the predicted values of MPG from both the models.\n",
    "Repeat this experiment 100times and calculate the variance of these 2 models for the particular test observation."
   ]
  },
  {
   "cell_type": "code",
   "execution_count": 158,
   "id": "c22cf43a",
   "metadata": {},
   "outputs": [],
   "source": [
    "#import Required Libraries\n",
    "import numpy as np \n",
    "import pandas as pd\n",
    "import matplotlib.pyplot as plt\n",
    "import time\n",
    "from sklearn.model_selection import train_test_split\n",
    "from sklearn.tree import DecisionTreeRegressor\n",
    "from sklearn.metrics import mean_absolute_error\n",
    "import warnings\n",
    "warnings.filterwarnings('ignore')"
   ]
  },
  {
   "cell_type": "code",
   "execution_count": 147,
   "id": "7b392a6f",
   "metadata": {},
   "outputs": [
    {
     "data": {
      "text/html": [
       "<div>\n",
       "<style scoped>\n",
       "    .dataframe tbody tr th:only-of-type {\n",
       "        vertical-align: middle;\n",
       "    }\n",
       "\n",
       "    .dataframe tbody tr th {\n",
       "        vertical-align: top;\n",
       "    }\n",
       "\n",
       "    .dataframe thead th {\n",
       "        text-align: right;\n",
       "    }\n",
       "</style>\n",
       "<table border=\"1\" class=\"dataframe\">\n",
       "  <thead>\n",
       "    <tr style=\"text-align: right;\">\n",
       "      <th></th>\n",
       "      <th>Car</th>\n",
       "      <th>MPG</th>\n",
       "      <th>Cylinders</th>\n",
       "      <th>Displacement</th>\n",
       "      <th>Horsepower</th>\n",
       "      <th>Weight</th>\n",
       "      <th>Acceleration</th>\n",
       "      <th>Model</th>\n",
       "      <th>Origin</th>\n",
       "    </tr>\n",
       "  </thead>\n",
       "  <tbody>\n",
       "    <tr>\n",
       "      <th>0</th>\n",
       "      <td>Chevrolet Chevelle Malibu</td>\n",
       "      <td>18.0</td>\n",
       "      <td>8</td>\n",
       "      <td>307.0</td>\n",
       "      <td>130</td>\n",
       "      <td>3504</td>\n",
       "      <td>12.0</td>\n",
       "      <td>70</td>\n",
       "      <td>US</td>\n",
       "    </tr>\n",
       "    <tr>\n",
       "      <th>1</th>\n",
       "      <td>Buick Skylark 320</td>\n",
       "      <td>15.0</td>\n",
       "      <td>8</td>\n",
       "      <td>350.0</td>\n",
       "      <td>165</td>\n",
       "      <td>3693</td>\n",
       "      <td>11.5</td>\n",
       "      <td>70</td>\n",
       "      <td>US</td>\n",
       "    </tr>\n",
       "    <tr>\n",
       "      <th>2</th>\n",
       "      <td>Plymouth Satellite</td>\n",
       "      <td>18.0</td>\n",
       "      <td>8</td>\n",
       "      <td>318.0</td>\n",
       "      <td>150</td>\n",
       "      <td>3436</td>\n",
       "      <td>11.0</td>\n",
       "      <td>70</td>\n",
       "      <td>US</td>\n",
       "    </tr>\n",
       "    <tr>\n",
       "      <th>3</th>\n",
       "      <td>AMC Rebel SST</td>\n",
       "      <td>16.0</td>\n",
       "      <td>8</td>\n",
       "      <td>304.0</td>\n",
       "      <td>150</td>\n",
       "      <td>3433</td>\n",
       "      <td>12.0</td>\n",
       "      <td>70</td>\n",
       "      <td>US</td>\n",
       "    </tr>\n",
       "    <tr>\n",
       "      <th>4</th>\n",
       "      <td>Ford Torino</td>\n",
       "      <td>17.0</td>\n",
       "      <td>8</td>\n",
       "      <td>302.0</td>\n",
       "      <td>140</td>\n",
       "      <td>3449</td>\n",
       "      <td>10.5</td>\n",
       "      <td>70</td>\n",
       "      <td>US</td>\n",
       "    </tr>\n",
       "  </tbody>\n",
       "</table>\n",
       "</div>"
      ],
      "text/plain": [
       "                         Car   MPG  Cylinders  Displacement  Horsepower  \\\n",
       "0  Chevrolet Chevelle Malibu  18.0          8         307.0         130   \n",
       "1          Buick Skylark 320  15.0          8         350.0         165   \n",
       "2         Plymouth Satellite  18.0          8         318.0         150   \n",
       "3              AMC Rebel SST  16.0          8         304.0         150   \n",
       "4                Ford Torino  17.0          8         302.0         140   \n",
       "\n",
       "   Weight  Acceleration  Model Origin  \n",
       "0    3504          12.0     70     US  \n",
       "1    3693          11.5     70     US  \n",
       "2    3436          11.0     70     US  \n",
       "3    3433          12.0     70     US  \n",
       "4    3449          10.5     70     US  "
      ]
     },
     "execution_count": 147,
     "metadata": {},
     "output_type": "execute_result"
    }
   ],
   "source": [
    "df =pd.read_csv(r\"C:\\Users\\pooji\\Downloads\\cars.csv\") \n",
    "df.head()"
   ]
  },
  {
   "cell_type": "code",
   "execution_count": 148,
   "id": "20f5d3ee",
   "metadata": {},
   "outputs": [
    {
     "data": {
      "text/html": [
       "<div>\n",
       "<style scoped>\n",
       "    .dataframe tbody tr th:only-of-type {\n",
       "        vertical-align: middle;\n",
       "    }\n",
       "\n",
       "    .dataframe tbody tr th {\n",
       "        vertical-align: top;\n",
       "    }\n",
       "\n",
       "    .dataframe thead th {\n",
       "        text-align: right;\n",
       "    }\n",
       "</style>\n",
       "<table border=\"1\" class=\"dataframe\">\n",
       "  <thead>\n",
       "    <tr style=\"text-align: right;\">\n",
       "      <th></th>\n",
       "      <th>MPG</th>\n",
       "      <th>Cylinders</th>\n",
       "      <th>Displacement</th>\n",
       "      <th>Horsepower</th>\n",
       "      <th>Weight</th>\n",
       "      <th>Acceleration</th>\n",
       "      <th>Model</th>\n",
       "      <th>Car_AMC Ambassador Brougham</th>\n",
       "      <th>Car_AMC Ambassador DPL</th>\n",
       "      <th>Car_AMC Ambassador SST</th>\n",
       "      <th>...</th>\n",
       "      <th>Car_Volkswagen Type 3</th>\n",
       "      <th>Car_Volvo 144ea</th>\n",
       "      <th>Car_Volvo 145e (sw)</th>\n",
       "      <th>Car_Volvo 244DL</th>\n",
       "      <th>Car_Volvo 245</th>\n",
       "      <th>Car_Volvo 264gl</th>\n",
       "      <th>Car_Volvo Diesel</th>\n",
       "      <th>Origin_Europe</th>\n",
       "      <th>Origin_Japan</th>\n",
       "      <th>Origin_US</th>\n",
       "    </tr>\n",
       "  </thead>\n",
       "  <tbody>\n",
       "    <tr>\n",
       "      <th>0</th>\n",
       "      <td>18.0</td>\n",
       "      <td>8</td>\n",
       "      <td>307.0</td>\n",
       "      <td>130</td>\n",
       "      <td>3504</td>\n",
       "      <td>12.0</td>\n",
       "      <td>70</td>\n",
       "      <td>0</td>\n",
       "      <td>0</td>\n",
       "      <td>0</td>\n",
       "      <td>...</td>\n",
       "      <td>0</td>\n",
       "      <td>0</td>\n",
       "      <td>0</td>\n",
       "      <td>0</td>\n",
       "      <td>0</td>\n",
       "      <td>0</td>\n",
       "      <td>0</td>\n",
       "      <td>0</td>\n",
       "      <td>0</td>\n",
       "      <td>1</td>\n",
       "    </tr>\n",
       "  </tbody>\n",
       "</table>\n",
       "<p>1 rows × 318 columns</p>\n",
       "</div>"
      ],
      "text/plain": [
       "    MPG  Cylinders  Displacement  Horsepower  Weight  Acceleration  Model  \\\n",
       "0  18.0          8         307.0         130    3504          12.0     70   \n",
       "\n",
       "   Car_AMC Ambassador Brougham  Car_AMC Ambassador DPL  \\\n",
       "0                            0                       0   \n",
       "\n",
       "   Car_AMC Ambassador SST  ...  Car_Volkswagen Type 3  Car_Volvo 144ea  \\\n",
       "0                       0  ...                      0                0   \n",
       "\n",
       "   Car_Volvo 145e (sw)  Car_Volvo 244DL  Car_Volvo 245  Car_Volvo 264gl  \\\n",
       "0                    0                0              0                0   \n",
       "\n",
       "   Car_Volvo Diesel  Origin_Europe  Origin_Japan  Origin_US  \n",
       "0                 0              0             0          1  \n",
       "\n",
       "[1 rows x 318 columns]"
      ]
     },
     "execution_count": 148,
     "metadata": {},
     "output_type": "execute_result"
    }
   ],
   "source": [
    "df=pd.get_dummies(df) \n",
    "df.head(1)"
   ]
  },
  {
   "cell_type": "code",
   "execution_count": 152,
   "id": "befb4bc2",
   "metadata": {},
   "outputs": [],
   "source": [
    "X = cars.drop([\"MPG\",\"Origin\",\"Car\",\"Model\"],axis=1)  \n",
    "y = cars[['MPG']] "
   ]
  },
  {
   "cell_type": "code",
   "execution_count": 170,
   "id": "dddd0f73",
   "metadata": {},
   "outputs": [],
   "source": [
    "X_train = X.iloc[1:,:]\n",
    "y_train = y.iloc[1:,:]"
   ]
  },
  {
   "cell_type": "code",
   "execution_count": 155,
   "id": "5d0182de",
   "metadata": {},
   "outputs": [
    {
     "data": {
      "text/plain": [
       "array([   8.,  307.,  130., 3504.,   12.])"
      ]
     },
     "execution_count": 155,
     "metadata": {},
     "output_type": "execute_result"
    }
   ],
   "source": [
    "test_obs = X.iloc[0,:].values               \n",
    "test_obs"
   ]
  },
  {
   "cell_type": "code",
   "execution_count": 159,
   "id": "38475b82",
   "metadata": {},
   "outputs": [],
   "source": [
    "#Fitting Decision Tree with out pruning\n",
    "DT_pred=[]\n",
    "DT = DecisionTreeRegressor(random_state=0)\n",
    "for i in range(100):\n",
    "    X_sample = X_train.sample(200,random_state=i)   #sample size 200\n",
    "    y_sample = y_train.sample(200,random_state=i) \n",
    "    DT.fit(X_sample,y_sample)                       #decision tree model\n",
    "    DT_pred.append(DT.predict([test_obs])[0])"
   ]
  },
  {
   "cell_type": "code",
   "execution_count": 162,
   "id": "417a5ba3",
   "metadata": {},
   "outputs": [
    {
     "name": "stdout",
     "output_type": "stream",
     "text": [
      "Variance of pred values of 100 DT\n",
      "  12.211044000000005\n"
     ]
    }
   ],
   "source": [
    "print(\"Variance of pred values of 100 DT\\n \",np.var(DT_pred))"
   ]
  },
  {
   "cell_type": "code",
   "execution_count": 167,
   "id": "428561a1",
   "metadata": {},
   "outputs": [],
   "source": [
    "#Pruned Decision Tree -Cost Complexity Parameter\n",
    "pruned_DT_pred=[]                                    #Empty list for pruned DT predicted values    \n",
    "for i in range(100):\n",
    "    X_sple = X_train.sample(200,random_state=i)      #200 sample size\n",
    "    y_sple = y_train.sample(200,random_state=i) \n",
    "    X_train1, X_valid, y_train1, y_valid = train_test_split(X_sple, y_sple, test_size = 0.20,random_state=0)  \n",
    "    path = DT.cost_complexity_pruning_path(X_train1, y_train1)\n",
    "    ccp_alphas = path.ccp_alphas\n",
    "    \n",
    "    mae_train = {}                                   #set to store alpha values\n",
    "    mae_valid = {}\n",
    "    for j in ccp_alphas:                             #optimum alphas using mini mae\n",
    "        dt = DecisionTreeRegressor(ccp_alpha=j)\n",
    "        dt.fit(X_train1,y_train1)\n",
    "        pred_val = dt.predict(X_valid)               #pred on valid data\n",
    "        pred_train = dt.predict(X_train1) \n",
    "\n",
    "        mae_train[i] = mean_absolute_error(y_train1,pred_train)       \n",
    "        mae_valid[i] = mean_absolute_error(y_valid,pred_val)\n",
    "    opt_ccp_alpha = min(mae_valid,key = mae_valid.get)        #Optimum Cost Complexity Parameter\n",
    "        \n",
    "    \n",
    "    dt_prun = DecisionTreeRegressor(ccp_alpha=opt_ccp_alpha)\n",
    "    dt_prun.fit(X_sple,y_sple)                         #Fitted pruned DT model using optimal cost\n",
    "    pruned_DT_pred.append(dt.predict([test_obs])[0])\n"
   ]
  },
  {
   "cell_type": "code",
   "execution_count": 168,
   "id": "723ba727",
   "metadata": {},
   "outputs": [
    {
     "name": "stdout",
     "output_type": "stream",
     "text": [
      "Variance of predicted values of 100 pruned DT\n",
      " 9.43565181532263\n"
     ]
    }
   ],
   "source": [
    "print(\"Variance of predicted values of 100 pruned DT\\n\",np.var(pruned_DT_pred))"
   ]
  },
  {
   "cell_type": "markdown",
   "id": "f402a1ee",
   "metadata": {},
   "source": []
  },
  {
   "cell_type": "code",
   "execution_count": null,
   "id": "85ff088a",
   "metadata": {},
   "outputs": [],
   "source": []
  },
  {
   "cell_type": "code",
   "execution_count": null,
   "id": "d87a73cc",
   "metadata": {},
   "outputs": [],
   "source": []
  },
  {
   "cell_type": "code",
   "execution_count": null,
   "id": "4c180c2d",
   "metadata": {},
   "outputs": [],
   "source": []
  },
  {
   "cell_type": "code",
   "execution_count": null,
   "id": "187b9b93",
   "metadata": {},
   "outputs": [],
   "source": []
  }
 ],
 "metadata": {
  "kernelspec": {
   "display_name": "Python 3 (ipykernel)",
   "language": "python",
   "name": "python3"
  },
  "language_info": {
   "codemirror_mode": {
    "name": "ipython",
    "version": 3
   },
   "file_extension": ".py",
   "mimetype": "text/x-python",
   "name": "python",
   "nbconvert_exporter": "python",
   "pygments_lexer": "ipython3",
   "version": "3.9.12"
  }
 },
 "nbformat": 4,
 "nbformat_minor": 5
}
