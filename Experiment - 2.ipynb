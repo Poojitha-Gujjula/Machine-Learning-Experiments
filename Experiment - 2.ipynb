{
 "cells": [
  {
   "cell_type": "markdown",
   "id": "ba253ece",
   "metadata": {},
   "source": [
    "**Exp 2:**  Let P=Cars dataset with 406 obs and the variable MPG,Weight,Horsepower, Displacement. Generate 100 samples of size 100 each from P. Over Each Sample fit a DT model of minimum sample leaf 5 and  DT model of minimum sample leaf 20. For a fixed input get the predicted value for the both the kinds of models compute the variance of the predicted values separately . Report your observation and comment."
   ]
  },
  {
   "cell_type": "code",
   "execution_count": 18,
   "id": "4ba54c46",
   "metadata": {},
   "outputs": [],
   "source": [
    "#importing required libraries\n",
    "import numpy as np\n",
    "import pandas as pd\n",
    "from random import sample\n",
    "from sklearn.tree import DecisionTreeRegressor"
   ]
  },
  {
   "cell_type": "code",
   "execution_count": 2,
   "id": "5421f93f",
   "metadata": {},
   "outputs": [
    {
     "data": {
      "text/html": [
       "<div>\n",
       "<style scoped>\n",
       "    .dataframe tbody tr th:only-of-type {\n",
       "        vertical-align: middle;\n",
       "    }\n",
       "\n",
       "    .dataframe tbody tr th {\n",
       "        vertical-align: top;\n",
       "    }\n",
       "\n",
       "    .dataframe thead th {\n",
       "        text-align: right;\n",
       "    }\n",
       "</style>\n",
       "<table border=\"1\" class=\"dataframe\">\n",
       "  <thead>\n",
       "    <tr style=\"text-align: right;\">\n",
       "      <th></th>\n",
       "      <th>Car</th>\n",
       "      <th>MPG</th>\n",
       "      <th>Cylinders</th>\n",
       "      <th>Displacement</th>\n",
       "      <th>Horsepower</th>\n",
       "      <th>Weight</th>\n",
       "      <th>Acceleration</th>\n",
       "      <th>Model</th>\n",
       "      <th>Origin</th>\n",
       "    </tr>\n",
       "  </thead>\n",
       "  <tbody>\n",
       "    <tr>\n",
       "      <th>0</th>\n",
       "      <td>Chevrolet Chevelle Malibu</td>\n",
       "      <td>18.0</td>\n",
       "      <td>8</td>\n",
       "      <td>307.0</td>\n",
       "      <td>130</td>\n",
       "      <td>3504</td>\n",
       "      <td>12.0</td>\n",
       "      <td>70</td>\n",
       "      <td>US</td>\n",
       "    </tr>\n",
       "    <tr>\n",
       "      <th>1</th>\n",
       "      <td>Buick Skylark 320</td>\n",
       "      <td>15.0</td>\n",
       "      <td>8</td>\n",
       "      <td>350.0</td>\n",
       "      <td>165</td>\n",
       "      <td>3693</td>\n",
       "      <td>11.5</td>\n",
       "      <td>70</td>\n",
       "      <td>US</td>\n",
       "    </tr>\n",
       "  </tbody>\n",
       "</table>\n",
       "</div>"
      ],
      "text/plain": [
       "                         Car   MPG  Cylinders  Displacement  Horsepower  \\\n",
       "0  Chevrolet Chevelle Malibu  18.0          8         307.0         130   \n",
       "1          Buick Skylark 320  15.0          8         350.0         165   \n",
       "\n",
       "   Weight  Acceleration  Model Origin  \n",
       "0    3504          12.0     70     US  \n",
       "1    3693          11.5     70     US  "
      ]
     },
     "execution_count": 2,
     "metadata": {},
     "output_type": "execute_result"
    }
   ],
   "source": [
    "df = pd.read_csv(r\"C:\\Users\\pooji\\Downloads\\cars.csv\")       # importing dataset\n",
    "df.head(2)"
   ]
  },
  {
   "cell_type": "code",
   "execution_count": 3,
   "id": "f88a057d",
   "metadata": {},
   "outputs": [],
   "source": [
    "#selecting columns for analysis\n",
    "data=df[[\"Horsepower\",\"Weight\",\"Displacement\",\"MPG\"]]"
   ]
  },
  {
   "cell_type": "code",
   "execution_count": 4,
   "id": "8e294638",
   "metadata": {},
   "outputs": [],
   "source": [
    "test=data.sample(n=1,random_state=1)\n",
    "X_test=test[[\"Horsepower\",\"Weight\",\"Displacement\"]]\n",
    "y_test=test[[\"MPG\"]]"
   ]
  },
  {
   "cell_type": "code",
   "execution_count": 5,
   "id": "cc4ae7ad",
   "metadata": {},
   "outputs": [
    {
     "data": {
      "text/plain": [
       "(1, 1, 405)"
      ]
     },
     "execution_count": 5,
     "metadata": {},
     "output_type": "execute_result"
    }
   ],
   "source": [
    "train=data[[\"Horsepower\",\"Weight\",\"Displacement\",\"MPG\"]]\n",
    "train.drop(test.index,inplace=True)\n",
    "len(X_test),len(y_test),len(train)"
   ]
  },
  {
   "cell_type": "code",
   "execution_count": 19,
   "id": "ef443691",
   "metadata": {},
   "outputs": [
    {
     "name": "stdout",
     "output_type": "stream",
     "text": [
      "13.523002083333333\n"
     ]
    }
   ],
   "source": [
    "y_pred_mini_leaf5=[]\n",
    "for i in range(1,101):\n",
    "    sample = train.sample(n=100)\n",
    "    X_train_sample=sample[[\"Horsepower\",\"Weight\",\"Displacement\"]]\n",
    "    y_train_sample=sample[[\"MPG\"]]\n",
    "    reg_tree=DecisionTreeRegressor(min_samples_leaf=5)\n",
    "    reg_tree.fit(X_train_sample,y_train_sample)\n",
    "    y_pred=reg_tree.predict(X_test)\n",
    "    y_pred_mini_leaf5.append(y_pred)\n",
    "print(np.var(y_pred_mini_leaf))"
   ]
  },
  {
   "cell_type": "code",
   "execution_count": 20,
   "id": "a07ca8c4",
   "metadata": {},
   "outputs": [
    {
     "name": "stdout",
     "output_type": "stream",
     "text": [
      "7.524496005143223\n"
     ]
    }
   ],
   "source": [
    "y_pred_mini_leaf20=[]\n",
    "for i in range(1,101):\n",
    "    sample = train.sample(n=100)\n",
    "    X_train_sample=sample[[\"Horsepower\",\"Weight\",\"Displacement\"]]\n",
    "    y_train_sample=sample[[\"MPG\"]]\n",
    "    reg_tree=DecisionTreeRegressor(min_samples_leaf=20)\n",
    "    reg_tree.fit(X_train_sample,y_train_sample)\n",
    "    y_pred20=reg_tree.predict(X_test)\n",
    "    y_pred_mini_leaf20.append(y_pred20)\n",
    "print(np.var(y_pred_mini_leaf20))"
   ]
  },
  {
   "cell_type": "markdown",
   "id": "dea41400",
   "metadata": {},
   "source": [
    "**Comment:** The variance of the DT model with mini samples leaf 5 is more than the variance of the model with mini samples leaf 20.Because the model becomes more complex when the No of Observation at leaf Node is increased. It is thus likely to have more splits and leaf nodes, thereby increasing its model complexity and variance."
   ]
  },
  {
   "cell_type": "code",
   "execution_count": null,
   "id": "3d43487b",
   "metadata": {},
   "outputs": [],
   "source": []
  },
  {
   "cell_type": "code",
   "execution_count": null,
   "id": "658f8fc4",
   "metadata": {},
   "outputs": [],
   "source": []
  }
 ],
 "metadata": {
  "kernelspec": {
   "display_name": "Python 3 (ipykernel)",
   "language": "python",
   "name": "python3"
  },
  "language_info": {
   "codemirror_mode": {
    "name": "ipython",
    "version": 3
   },
   "file_extension": ".py",
   "mimetype": "text/x-python",
   "name": "python",
   "nbconvert_exporter": "python",
   "pygments_lexer": "ipython3",
   "version": "3.9.12"
  }
 },
 "nbformat": 4,
 "nbformat_minor": 5
}
