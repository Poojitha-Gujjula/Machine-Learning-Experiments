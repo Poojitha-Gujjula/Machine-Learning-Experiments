{
 "cells": [
  {
   "cell_type": "markdown",
   "id": "dfe3969a",
   "metadata": {},
   "source": [
    "### Que 1 Show that a bootstrap sample is a representation of the population distribution"
   ]
  },
  {
   "cell_type": "code",
   "execution_count": 34,
   "id": "d51fe333",
   "metadata": {},
   "outputs": [],
   "source": [
    "#importing required libraries\n",
    "import numpy as np\n",
    "import pandas as pd\n",
    "import matplotlib.pyplot as plt\n",
    "import seaborn as sns\n",
    "import random"
   ]
  },
  {
   "cell_type": "code",
   "execution_count": 4,
   "id": "b22fafa5",
   "metadata": {},
   "outputs": [
    {
     "data": {
      "text/html": [
       "<div>\n",
       "<style scoped>\n",
       "    .dataframe tbody tr th:only-of-type {\n",
       "        vertical-align: middle;\n",
       "    }\n",
       "\n",
       "    .dataframe tbody tr th {\n",
       "        vertical-align: top;\n",
       "    }\n",
       "\n",
       "    .dataframe thead th {\n",
       "        text-align: right;\n",
       "    }\n",
       "</style>\n",
       "<table border=\"1\" class=\"dataframe\">\n",
       "  <thead>\n",
       "    <tr style=\"text-align: right;\">\n",
       "      <th></th>\n",
       "      <th>Age</th>\n",
       "      <th>Attrition</th>\n",
       "      <th>BusinessTravel</th>\n",
       "      <th>Department</th>\n",
       "      <th>EducationField</th>\n",
       "      <th>EnvironmentSatisfaction</th>\n",
       "      <th>Gender</th>\n",
       "      <th>JobInvolvement</th>\n",
       "      <th>JobLevel</th>\n",
       "      <th>JobSatisfaction</th>\n",
       "      <th>MaritalStatus</th>\n",
       "      <th>MonthlyIncome</th>\n",
       "      <th>OverTime</th>\n",
       "      <th>TotalWorkingYears</th>\n",
       "      <th>WorkLifeBalance</th>\n",
       "      <th>YearsAtCompany</th>\n",
       "      <th>YearsInCurrentRole</th>\n",
       "      <th>YearsSinceLastPromotion</th>\n",
       "      <th>YearsWithCurrManager</th>\n",
       "      <th>DistanceFromHome</th>\n",
       "    </tr>\n",
       "  </thead>\n",
       "  <tbody>\n",
       "    <tr>\n",
       "      <th>0</th>\n",
       "      <td>41</td>\n",
       "      <td>1</td>\n",
       "      <td>Travel_Rarely</td>\n",
       "      <td>Sales</td>\n",
       "      <td>Life Sciences</td>\n",
       "      <td>2</td>\n",
       "      <td>Female</td>\n",
       "      <td>3</td>\n",
       "      <td>2</td>\n",
       "      <td>4</td>\n",
       "      <td>Single</td>\n",
       "      <td>5993</td>\n",
       "      <td>Yes</td>\n",
       "      <td>8</td>\n",
       "      <td>1</td>\n",
       "      <td>6</td>\n",
       "      <td>4</td>\n",
       "      <td>0</td>\n",
       "      <td>5</td>\n",
       "      <td>1</td>\n",
       "    </tr>\n",
       "    <tr>\n",
       "      <th>1</th>\n",
       "      <td>49</td>\n",
       "      <td>0</td>\n",
       "      <td>Travel_Frequently</td>\n",
       "      <td>Research &amp; Development</td>\n",
       "      <td>Life Sciences</td>\n",
       "      <td>3</td>\n",
       "      <td>Male</td>\n",
       "      <td>2</td>\n",
       "      <td>2</td>\n",
       "      <td>2</td>\n",
       "      <td>Married</td>\n",
       "      <td>5130</td>\n",
       "      <td>No</td>\n",
       "      <td>10</td>\n",
       "      <td>3</td>\n",
       "      <td>10</td>\n",
       "      <td>7</td>\n",
       "      <td>1</td>\n",
       "      <td>7</td>\n",
       "      <td>8</td>\n",
       "    </tr>\n",
       "  </tbody>\n",
       "</table>\n",
       "</div>"
      ],
      "text/plain": [
       "   Age  Attrition     BusinessTravel              Department EducationField  \\\n",
       "0   41          1      Travel_Rarely                   Sales  Life Sciences   \n",
       "1   49          0  Travel_Frequently  Research & Development  Life Sciences   \n",
       "\n",
       "   EnvironmentSatisfaction  Gender  JobInvolvement  JobLevel  JobSatisfaction  \\\n",
       "0                        2  Female               3         2                4   \n",
       "1                        3    Male               2         2                2   \n",
       "\n",
       "  MaritalStatus  MonthlyIncome OverTime  TotalWorkingYears  WorkLifeBalance  \\\n",
       "0        Single           5993      Yes                  8                1   \n",
       "1       Married           5130       No                 10                3   \n",
       "\n",
       "   YearsAtCompany  YearsInCurrentRole  YearsSinceLastPromotion  \\\n",
       "0               6                   4                        0   \n",
       "1              10                   7                        1   \n",
       "\n",
       "   YearsWithCurrManager  DistanceFromHome  \n",
       "0                     5                 1  \n",
       "1                     7                 8  "
      ]
     },
     "execution_count": 4,
     "metadata": {},
     "output_type": "execute_result"
    }
   ],
   "source": [
    "df = pd.read_csv(r\"C:\\Users\\pooji\\Downloads\\attrition data.csv\")\n",
    "df.head(2)"
   ]
  },
  {
   "cell_type": "code",
   "execution_count": 6,
   "id": "17117cd4",
   "metadata": {},
   "outputs": [
    {
     "data": {
      "text/plain": [
       "0       5993\n",
       "1       5130\n",
       "2       2090\n",
       "3       2909\n",
       "4       3468\n",
       "        ... \n",
       "1465    2571\n",
       "1466    9991\n",
       "1467    6142\n",
       "1468    5390\n",
       "1469    4404\n",
       "Name: MonthlyIncome, Length: 1470, dtype: int64"
      ]
     },
     "execution_count": 6,
     "metadata": {},
     "output_type": "execute_result"
    }
   ],
   "source": [
    "df[\"MonthlyIncome\"]"
   ]
  },
  {
   "cell_type": "code",
   "execution_count": 11,
   "id": "e40a8b6a",
   "metadata": {},
   "outputs": [],
   "source": [
    "popu=df.MonthlyIncome"
   ]
  },
  {
   "cell_type": "code",
   "execution_count": 20,
   "id": "67488c7c",
   "metadata": {},
   "outputs": [
    {
     "name": "stdout",
     "output_type": "stream",
     "text": [
      "Population mean: 6502.931292517007 \n",
      "Population variance: 22149778.937456165\n"
     ]
    }
   ],
   "source": [
    "print(\"Population mean:\",popu.mean(),\"\\n\"\"Population variance:\",np.var(popu,ddof=0))"
   ]
  },
  {
   "cell_type": "code",
   "execution_count": 12,
   "id": "8ab99627",
   "metadata": {},
   "outputs": [
    {
     "data": {
      "text/plain": [
       "<AxesSubplot:xlabel='MonthlyIncome', ylabel='Count'>"
      ]
     },
     "execution_count": 12,
     "metadata": {},
     "output_type": "execute_result"
    },
    {
     "data": {
      "image/png": "[encoded data removed]",
      "text/plain": [
       "<Figure size 432x288 with 1 Axes>"
      ]
     },
     "metadata": {
      "needs_background": "light"
     },
     "output_type": "display_data"
    }
   ],
   "source": [
    "sns.histplot(popu)    #plotting histogram of population"
   ]
  },
  {
   "cell_type": "code",
   "execution_count": 22,
   "id": "93126d4f",
   "metadata": {},
   "outputs": [
    {
     "data": {
      "text/plain": [
       "<AxesSubplot:xlabel='MonthlyIncome', ylabel='Count'>"
      ]
     },
     "execution_count": 22,
     "metadata": {},
     "output_type": "execute_result"
    },
    {
     "data": {
      "image/png": "[encoded data removed]",
      "text/plain": [
       "<Figure size 432x288 with 1 Axes>"
      ]
     },
     "metadata": {
      "needs_background": "light"
     },
     "output_type": "display_data"
    }
   ],
   "source": [
    "rand_sample=popu.sample(250)\n",
    "sns.histplot(rand_sample)"
   ]
  },
  {
   "cell_type": "code",
   "execution_count": 23,
   "id": "5dd8ed27",
   "metadata": {},
   "outputs": [
    {
     "name": "stdout",
     "output_type": "stream",
     "text": [
      "Sample mean: 6605.468 \n",
      "Sample variance: 23989668.55297601\n"
     ]
    }
   ],
   "source": [
    "print(\"Sample mean:\",rand_sample.mean(),\"\\n\"\"Sample variance:\",np.var(rand_sample,ddof=0))"
   ]
  },
  {
   "cell_type": "code",
   "execution_count": null,
   "id": "d6842bd1",
   "metadata": {},
   "outputs": [],
   "source": []
  },
  {
   "cell_type": "code",
   "execution_count": 27,
   "id": "f5dae6e9",
   "metadata": {},
   "outputs": [
    {
     "name": "stdout",
     "output_type": "stream",
     "text": [
      "sample 0\n"
     ]
    },
    {
     "data": {
      "image/png": "[encoded data removed]",
      "text/plain": [
       "<Figure size 432x288 with 1 Axes>"
      ]
     },
     "metadata": {
      "needs_background": "light"
     },
     "output_type": "display_data"
    },
    {
     "name": "stdout",
     "output_type": "stream",
     "text": [
      "sample 1\n"
     ]
    },
    {
     "data": {
      "image/png": "[encoded data removed]",
      "text/plain": [
       "<Figure size 432x288 with 1 Axes>"
      ]
     },
     "metadata": {
      "needs_background": "light"
     },
     "output_type": "display_data"
    },
    {
     "name": "stdout",
     "output_type": "stream",
     "text": [
      "sample 2\n"
     ]
    },
    {
     "data": {
      "image/png": "[encoded data removed]",
      "text/plain": [
       "<Figure size 432x288 with 1 Axes>"
      ]
     },
     "metadata": {
      "needs_background": "light"
     },
     "output_type": "display_data"
    },
    {
     "name": "stdout",
     "output_type": "stream",
     "text": [
      "sample 3\n"
     ]
    },
    {
     "data": {
      "image/png": "[encoded data removed]",
      "text/plain": [
       "<Figure size 432x288 with 1 Axes>"
      ]
     },
     "metadata": {
      "needs_background": "light"
     },
     "output_type": "display_data"
    },
    {
     "name": "stdout",
     "output_type": "stream",
     "text": [
      "sample 4\n"
     ]
    },
    {
     "data": {
      "image/png": "[encoded data removed]",
      "text/plain": [
       "<Figure size 432x288 with 1 Axes>"
      ]
     },
     "metadata": {
      "needs_background": "light"
     },
     "output_type": "display_data"
    }
   ],
   "source": [
    "for i in range(0,5):\n",
    "    sample = rand_sample.sample(250,replace=True)\n",
    "    sns.histplot(sample)\n",
    "    print(\"sample\",i)\n",
    "    plt.show()"
   ]
  },
  {
   "cell_type": "markdown",
   "id": "55d97b8f",
   "metadata": {},
   "source": [
    "### Que 2 Show that average a bootstrap sample contains 63% od unique observations"
   ]
  },
  {
   "cell_type": "code",
   "execution_count": 29,
   "id": "ff95f968",
   "metadata": {},
   "outputs": [
    {
     "data": {
      "text/plain": [
       "array([  1,   2,   3,   4,   5,   6,   7,   8,   9,  10,  11,  12,  13,\n",
       "        14,  15,  16,  17,  18,  19,  20,  21,  22,  23,  24,  25,  26,\n",
       "        27,  28,  29,  30,  31,  32,  33,  34,  35,  36,  37,  38,  39,\n",
       "        40,  41,  42,  43,  44,  45,  46,  47,  48,  49,  50,  51,  52,\n",
       "        53,  54,  55,  56,  57,  58,  59,  60,  61,  62,  63,  64,  65,\n",
       "        66,  67,  68,  69,  70,  71,  72,  73,  74,  75,  76,  77,  78,\n",
       "        79,  80,  81,  82,  83,  84,  85,  86,  87,  88,  89,  90,  91,\n",
       "        92,  93,  94,  95,  96,  97,  98,  99, 100])"
      ]
     },
     "execution_count": 29,
     "metadata": {},
     "output_type": "execute_result"
    }
   ],
   "source": [
    "\n",
    "#generating a sequence of numbers from 1-100, which will be  called our population (P)\n",
    "pop=np.array(range(1,101))\n",
    "pop"
   ]
  },
  {
   "cell_type": "code",
   "execution_count": 39,
   "id": "4bbc60ed",
   "metadata": {},
   "outputs": [
    {
     "name": "stdout",
     "output_type": "stream",
     "text": [
      "[0.7, 0.61, 0.61, 0.63, 0.66, 0.55, 0.63, 0.64, 0.67, 0.63, 0.6, 0.58, 0.61, 0.59, 0.6, 0.57, 0.58, 0.61, 0.6, 0.61, 0.66, 0.65, 0.59, 0.64, 0.62, 0.68, 0.61, 0.7, 0.63, 0.64, 0.64, 0.61, 0.56, 0.66, 0.64, 0.6, 0.63, 0.65, 0.66, 0.63, 0.61, 0.69, 0.66, 0.62, 0.67, 0.72, 0.63, 0.65, 0.66, 0.66, 0.61, 0.63, 0.62, 0.67, 0.66, 0.66, 0.57, 0.58, 0.63, 0.67, 0.65, 0.61, 0.65, 0.68, 0.64, 0.66, 0.65, 0.63, 0.61, 0.63, 0.64, 0.61, 0.63, 0.61, 0.59, 0.61, 0.53, 0.68, 0.69, 0.63, 0.64, 0.58, 0.66, 0.65, 0.63, 0.64, 0.64, 0.61, 0.67, 0.67, 0.66, 0.58, 0.58, 0.7, 0.66, 0.62, 0.66, 0.68, 0.62, 0.64, 0.63, 0.66, 0.65, 0.57, 0.61, 0.55, 0.61, 0.57, 0.63, 0.66, 0.62, 0.64, 0.66, 0.64, 0.63, 0.58, 0.61, 0.6, 0.59, 0.64, 0.61, 0.64, 0.64, 0.62, 0.64, 0.63, 0.67, 0.6, 0.66, 0.59, 0.61, 0.62, 0.63, 0.62, 0.66, 0.57, 0.68, 0.67, 0.62, 0.6, 0.64, 0.67, 0.63, 0.6, 0.63, 0.66, 0.6, 0.65, 0.64, 0.67, 0.61, 0.64, 0.6, 0.64, 0.65, 0.68, 0.63, 0.67, 0.63, 0.67, 0.62, 0.67, 0.64, 0.6, 0.63, 0.63, 0.69, 0.66, 0.58, 0.65, 0.67, 0.63, 0.66, 0.64, 0.65, 0.65, 0.61, 0.68, 0.66, 0.61, 0.66, 0.67, 0.63, 0.65, 0.63, 0.65, 0.65, 0.64, 0.63, 0.66, 0.65, 0.6, 0.64, 0.6, 0.61, 0.62, 0.59, 0.63, 0.64, 0.59, 0.63, 0.62, 0.62, 0.61, 0.63, 0.65, 0.65, 0.62, 0.65, 0.67, 0.66, 0.64, 0.71, 0.68, 0.65, 0.62, 0.65, 0.7, 0.69, 0.59, 0.57, 0.63, 0.66, 0.6, 0.62, 0.67, 0.62, 0.67, 0.65, 0.59, 0.63, 0.66, 0.59, 0.65, 0.69, 0.64, 0.59, 0.6, 0.64, 0.64, 0.66, 0.62, 0.68, 0.67, 0.7, 0.62, 0.67, 0.62, 0.65, 0.61, 0.65, 0.6, 0.63, 0.66, 0.62, 0.67, 0.6, 0.65, 0.58, 0.65, 0.63, 0.66, 0.63, 0.67, 0.64, 0.62, 0.63, 0.69, 0.67, 0.66, 0.62, 0.68, 0.64, 0.68, 0.65, 0.63, 0.64, 0.65, 0.64, 0.66, 0.59, 0.61, 0.65, 0.63, 0.66, 0.63, 0.59, 0.66, 0.66, 0.59, 0.63, 0.65, 0.59, 0.62, 0.59, 0.65, 0.68, 0.63, 0.69, 0.62, 0.63, 0.64, 0.61, 0.63, 0.57, 0.67, 0.64, 0.63, 0.63, 0.65, 0.55, 0.66, 0.63, 0.63, 0.61, 0.67, 0.66, 0.63, 0.67, 0.61, 0.66, 0.66, 0.67, 0.6, 0.65, 0.66, 0.64, 0.65, 0.64, 0.59, 0.6, 0.61, 0.6, 0.64, 0.61, 0.67, 0.65, 0.65, 0.63, 0.69, 0.63, 0.6, 0.61, 0.65, 0.64, 0.62, 0.64, 0.63, 0.68, 0.64, 0.61, 0.64, 0.64, 0.63, 0.67, 0.55, 0.65, 0.63, 0.64, 0.65, 0.66, 0.66, 0.7, 0.61, 0.64, 0.64, 0.55, 0.66, 0.62, 0.65, 0.64, 0.67, 0.67, 0.62, 0.64, 0.66, 0.6, 0.66, 0.68, 0.65, 0.57, 0.67, 0.64, 0.64, 0.65, 0.71, 0.69, 0.65, 0.57, 0.67, 0.62, 0.64, 0.64, 0.68, 0.61, 0.62, 0.62, 0.69, 0.66, 0.67, 0.57, 0.61, 0.62, 0.67, 0.64, 0.66, 0.69, 0.59, 0.6, 0.63, 0.68, 0.64, 0.59, 0.68, 0.65, 0.63, 0.6, 0.57, 0.62, 0.58, 0.64, 0.61, 0.63, 0.67, 0.67, 0.6, 0.65, 0.64, 0.59, 0.67, 0.58, 0.57, 0.6, 0.64, 0.63, 0.67, 0.64, 0.57, 0.66, 0.62, 0.62, 0.63, 0.66, 0.64, 0.64, 0.67, 0.68, 0.62, 0.6, 0.66, 0.62, 0.6, 0.62, 0.61, 0.66, 0.65, 0.59, 0.64, 0.64, 0.63, 0.61, 0.66, 0.62, 0.68, 0.61, 0.6, 0.62, 0.62, 0.62, 0.62, 0.61, 0.69, 0.59, 0.61, 0.61, 0.62, 0.71, 0.61, 0.65, 0.65, 0.62, 0.63, 0.61, 0.7, 0.64, 0.65, 0.62, 0.59, 0.65, 0.65, 0.66, 0.63, 0.63, 0.63, 0.65, 0.64, 0.64, 0.57, 0.62, 0.67, 0.63, 0.65, 0.61, 0.62, 0.63, 0.57, 0.64, 0.63, 0.61, 0.65, 0.61, 0.68, 0.6, 0.63, 0.61, 0.64, 0.66, 0.65, 0.66, 0.64, 0.71, 0.58, 0.65, 0.62, 0.68, 0.62, 0.64, 0.63, 0.6, 0.65, 0.64, 0.64, 0.58, 0.57, 0.63, 0.64, 0.64, 0.62, 0.63, 0.62, 0.61, 0.64, 0.7, 0.61, 0.64, 0.62, 0.63, 0.63, 0.63, 0.62, 0.64, 0.64, 0.62, 0.66, 0.68, 0.67, 0.67, 0.63, 0.66, 0.64, 0.62, 0.64, 0.61, 0.61, 0.65, 0.65, 0.62, 0.61, 0.62, 0.66, 0.65, 0.65, 0.61, 0.63, 0.57, 0.66, 0.63, 0.63, 0.68, 0.67, 0.65, 0.62, 0.65, 0.68, 0.63, 0.6, 0.66, 0.62, 0.66, 0.63, 0.61, 0.56, 0.67, 0.68, 0.59, 0.64, 0.58, 0.68, 0.65, 0.6, 0.64, 0.64, 0.61, 0.68, 0.64, 0.62, 0.64, 0.62, 0.62, 0.66, 0.66, 0.61, 0.61, 0.66, 0.67, 0.61, 0.68, 0.62, 0.66, 0.66, 0.61, 0.65, 0.6, 0.64, 0.6, 0.7, 0.62, 0.63, 0.61, 0.58, 0.63, 0.62, 0.67, 0.63, 0.67, 0.61, 0.64, 0.63, 0.6, 0.58, 0.66, 0.67, 0.61, 0.61, 0.62, 0.59, 0.64, 0.59, 0.62, 0.66, 0.6, 0.66, 0.64, 0.61, 0.65, 0.63, 0.59, 0.62, 0.67, 0.7, 0.63, 0.62, 0.64, 0.69, 0.61, 0.61, 0.59, 0.64, 0.64, 0.68, 0.69, 0.63, 0.64, 0.64, 0.67, 0.6, 0.64, 0.64, 0.61, 0.66, 0.61, 0.69, 0.66, 0.7, 0.62, 0.62, 0.63, 0.6, 0.62, 0.65, 0.65, 0.67, 0.62, 0.66, 0.69, 0.62, 0.58, 0.63, 0.65, 0.66, 0.68, 0.66, 0.64, 0.65, 0.6, 0.66, 0.65, 0.61, 0.63, 0.65, 0.6, 0.6, 0.66, 0.59, 0.67, 0.59, 0.6, 0.59, 0.58, 0.62, 0.61, 0.63, 0.68, 0.62, 0.6, 0.62, 0.65, 0.64, 0.62, 0.58, 0.65, 0.6, 0.64, 0.6, 0.63, 0.65, 0.66, 0.61, 0.69, 0.66, 0.69, 0.64, 0.61, 0.69, 0.68, 0.67, 0.59, 0.71, 0.64, 0.61, 0.65, 0.65, 0.63, 0.63, 0.63, 0.61, 0.59, 0.61, 0.64, 0.67, 0.66, 0.6, 0.6, 0.63, 0.62, 0.59, 0.6, 0.64, 0.63, 0.57, 0.63, 0.61, 0.67, 0.57, 0.63, 0.67, 0.54, 0.61, 0.63, 0.59, 0.68, 0.64, 0.58, 0.63, 0.65, 0.61, 0.63, 0.61, 0.65, 0.68, 0.56, 0.67, 0.66, 0.59, 0.68, 0.61, 0.63, 0.61, 0.64, 0.63, 0.62, 0.64, 0.65, 0.64, 0.62, 0.57, 0.6, 0.67, 0.64, 0.64, 0.6, 0.62, 0.65, 0.61, 0.63, 0.62, 0.7, 0.59, 0.62, 0.66, 0.65, 0.58, 0.62, 0.61, 0.64, 0.66, 0.61, 0.67, 0.62, 0.65, 0.64, 0.63, 0.66, 0.58, 0.64, 0.64, 0.66, 0.63, 0.62, 0.61, 0.7, 0.59, 0.61, 0.68, 0.57, 0.65, 0.63, 0.58, 0.62, 0.58, 0.57, 0.71, 0.64, 0.66, 0.62, 0.58, 0.68, 0.6, 0.64, 0.68, 0.63, 0.67, 0.63, 0.69, 0.68, 0.63, 0.61, 0.64, 0.53, 0.69, 0.63, 0.66, 0.6, 0.68, 0.64, 0.65, 0.68, 0.66, 0.64, 0.61, 0.66, 0.64, 0.62, 0.62, 0.66, 0.66, 0.63, 0.56, 0.66, 0.61, 0.64, 0.6, 0.63, 0.54, 0.63, 0.69, 0.64, 0.68, 0.65, 0.6, 0.62, 0.62, 0.63, 0.62, 0.59, 0.65, 0.65, 0.68, 0.66, 0.62, 0.62, 0.63, 0.62, 0.59, 0.6, 0.61, 0.68, 0.61, 0.65, 0.66, 0.68, 0.6, 0.66, 0.62, 0.67, 0.66, 0.63, 0.6, 0.64, 0.65, 0.64, 0.65, 0.63, 0.59, 0.68, 0.6, 0.61, 0.63, 0.62, 0.63, 0.58, 0.66, 0.65, 0.6, 0.64, 0.66, 0.64, 0.71, 0.61, 0.64, 0.67, 0.63, 0.54, 0.63, 0.69, 0.63, 0.62, 0.61, 0.65, 0.65, 0.62, 0.6, 0.6, 0.69, 0.64, 0.63, 0.66, 0.62, 0.6, 0.66, 0.65, 0.59, 0.63, 0.56, 0.61, 0.59, 0.61, 0.69, 0.6, 0.63, 0.63, 0.66, 0.59, 0.62, 0.65, 0.65, 0.65, 0.63, 0.65, 0.63, 0.64, 0.65, 0.64, 0.64, 0.59, 0.62, 0.66, 0.66, 0.63, 0.63]\n"
     ]
    }
   ],
   "source": [
    "percent = []                                                 #empty list to store prop of unique values\n",
    "for i in range(1,1001):                                      #generating 1000 samples with replacement from P\n",
    "    boot_strap_smpl = random.choices(pop,k=100)              #generate a sample of size 100\n",
    "    for num in boot_strap_smpl:\n",
    "        unique_sample= set(boot_strap_smpl)                  #calculating  the proportion of unique values\n",
    "    percentage = len(unique_sample)/len(boot_strap_smpl)\n",
    "    percent.append(percentage)\n",
    "print(prop)"
   ]
  },
  {
   "cell_type": "code",
   "execution_count": 40,
   "id": "c68a47a8",
   "metadata": {},
   "outputs": [
    {
     "data": {
      "text/plain": [
       "0.63371"
      ]
     },
     "execution_count": 40,
     "metadata": {},
     "output_type": "execute_result"
    }
   ],
   "source": [
    "np.mean(prop)"
   ]
  },
  {
   "cell_type": "code",
   "execution_count": 41,
   "id": "cabe6cca",
   "metadata": {},
   "outputs": [
    {
     "data": {
      "text/plain": [
       "<AxesSubplot:ylabel='Count'>"
      ]
     },
     "execution_count": 41,
     "metadata": {},
     "output_type": "execute_result"
    },
    {
     "data": {
      "image/png": "[encoded data removed]",
      "text/plain": [
       "<Figure size 432x288 with 1 Axes>"
      ]
     },
     "metadata": {
      "needs_background": "light"
     },
     "output_type": "display_data"
    }
   ],
   "source": [
    "sns.histplot(prop)"
   ]
  },
  {
   "cell_type": "markdown",
   "id": "30c5a69d",
   "metadata": {},
   "source": [
    "**Que 3:** Generate 10,000 random numbers from a Normal (0,1) distn. Let that be population P. Plot the distribution P. Generate a random sample of size 1000 from P. Plot the histogram of sample S. use the theoretical approach to compute the standard error of x_bar i.e SE(x_bar)=Sigma/sqrt(n).use the bootstrap approach to compute standard error of x_bar.Compare the two results"
   ]
  },
  {
   "cell_type": "code",
   "execution_count": 77,
   "id": "e995c6f4",
   "metadata": {},
   "outputs": [
    {
     "data": {
      "text/plain": [
       "<AxesSubplot:ylabel='Count'>"
      ]
     },
     "execution_count": 77,
     "metadata": {},
     "output_type": "execute_result"
    },
    {
     "data": {
      "image/png": "[encoded data removed]",
      "text/plain": [
       "<Figure size 432x288 with 1 Axes>"
      ]
     },
     "metadata": {
      "needs_background": "light"
     },
     "output_type": "display_data"
    }
   ],
   "source": [
    "popu=pd.DataFrame(np.random.normal(loc=0.0, scale=1.0, size=10000)) #create a popu which follows normal distribution (0,1)\n",
    "sns.histplot(popu) #plot the population distribution"
   ]
  },
  {
   "cell_type": "code",
   "execution_count": 79,
   "id": "3a0bfae3",
   "metadata": {},
   "outputs": [
    {
     "data": {
      "text/plain": [
       "<AxesSubplot:ylabel='Count'>"
      ]
     },
     "execution_count": 79,
     "metadata": {},
     "output_type": "execute_result"
    },
    {
     "data": {
      "image/png": "[encoded data removed]",
      "text/plain": [
       "<Figure size 432x288 with 1 Axes>"
      ]
     },
     "metadata": {
      "needs_background": "light"
     },
     "output_type": "display_data"
    }
   ],
   "source": [
    "smpl = popu.sample(1000)  #sample size 1000\n",
    "sns.histplot(smpl)     #plot the population distribution"
   ]
  },
  {
   "cell_type": "code",
   "execution_count": 86,
   "id": "dc4b12de",
   "metadata": {},
   "outputs": [
    {
     "name": "stdout",
     "output_type": "stream",
     "text": [
      "Mean of sample : 0    0.049697\n",
      "dtype: float64\n",
      "Std Error: 0    0.030971\n",
      "dtype: float64\n"
     ]
    },
    {
     "name": "stderr",
     "output_type": "stream",
     "text": [
      "C:\\Users\\pooji\\anaconda3\\lib\\site-packages\\numpy\\core\\fromnumeric.py:3438: FutureWarning: In a future version, DataFrame.mean(axis=None) will return a scalar mean over the entire DataFrame. To retain the old behavior, use 'frame.mean(axis=0)' or just 'frame.mean()'\n",
      "  return mean(axis=axis, dtype=dtype, out=out, **kwargs)\n"
     ]
    }
   ],
   "source": [
    "mean= np.mean(smpl)\n",
    "std_err = np.std(smpl)/np.sqrt(1000)\n",
    "print(\"Mean of sample :\",mean)\n",
    "print(\"Std Error:\",std_err)"
   ]
  },
  {
   "cell_type": "code",
   "execution_count": 88,
   "id": "b9ce8c04",
   "metadata": {},
   "outputs": [
    {
     "name": "stderr",
     "output_type": "stream",
     "text": [
      "C:\\Users\\pooji\\anaconda3\\lib\\site-packages\\numpy\\core\\fromnumeric.py:3438: FutureWarning: In a future version, DataFrame.mean(axis=None) will return a scalar mean over the entire DataFrame. To retain the old behavior, use 'frame.mean(axis=0)' or just 'frame.mean()'\n",
      "  return mean(axis=axis, dtype=dtype, out=out, **kwargs)\n"
     ]
    },
    {
     "name": "stdout",
     "output_type": "stream",
     "text": [
      "The Standard Error 0.0010077823742510338\n"
     ]
    },
    {
     "data": {
      "image/png": "[encoded data removed]",
      "text/plain": [
       "<Figure size 432x288 with 1 Axes>"
      ]
     },
     "metadata": {
      "needs_background": "light"
     },
     "output_type": "display_data"
    }
   ],
   "source": [
    "avg=[]                                      \n",
    "for i in range(1000):\n",
    "    bs = smpl.sample(1000,replace=True)\n",
    "    x_bar = np.mean(bs)\n",
    "    avg.append(x_bar)\n",
    "\n",
    "x= pd.DataFrame(avg)\n",
    "sns.histplot(x)\n",
    "\n",
    "SE = np.std(avg)/np.sqrt(1000)\n",
    "print (\"The Standard Error\",SE)"
   ]
  },
  {
   "cell_type": "code",
   "execution_count": null,
   "id": "65da61da",
   "metadata": {},
   "outputs": [],
   "source": []
  },
  {
   "cell_type": "code",
   "execution_count": null,
   "id": "fe81a27d",
   "metadata": {},
   "outputs": [],
   "source": []
  },
  {
   "cell_type": "code",
   "execution_count": null,
   "id": "a263655f",
   "metadata": {},
   "outputs": [],
   "source": []
  },
  {
   "cell_type": "markdown",
   "id": "0a3962d8",
   "metadata": {},
   "source": [
    "**Que 4:** Consider Cars data for predicting MPG based on Cylinders, Weight,Horsepower & Acceleration. Let P be the entire data. Let S be the random sample of size n=100 from P. Fit a decision tree on S without any restriction.Then fit a bagged regressor as the base regressor.Compute Standard Deviation for Decision tree and Bagged regressor."
   ]
  },
  {
   "cell_type": "code",
   "execution_count": 64,
   "id": "6b8703c6",
   "metadata": {},
   "outputs": [],
   "source": [
    "from sklearn.tree import DecisionTreeRegressor\n",
    "from sklearn.ensemble import BaggingRegressor"
   ]
  },
  {
   "cell_type": "code",
   "execution_count": 65,
   "id": "44165e85",
   "metadata": {},
   "outputs": [
    {
     "data": {
      "text/plain": [
       "Index(['Car', 'MPG', 'Cylinders', 'Displacement', 'Horsepower', 'Weight',\n",
       "       'Acceleration', 'Model', 'Origin'],\n",
       "      dtype='object')"
      ]
     },
     "execution_count": 65,
     "metadata": {},
     "output_type": "execute_result"
    }
   ],
   "source": [
    "cars=pd.read_csv(r\"C:\\Users\\pooji\\Downloads\\cars.csv\")\n",
    "cars.columns"
   ]
  },
  {
   "cell_type": "code",
   "execution_count": 66,
   "id": "0b1a8128",
   "metadata": {},
   "outputs": [],
   "source": [
    "X=cars.drop([\"Car\",\"Model\",\"Origin\"],axis=1)  #not including MPG as it will be separated during sampling\n",
    "y=cars.MPG"
   ]
  },
  {
   "cell_type": "code",
   "execution_count": 67,
   "id": "5a4233e5",
   "metadata": {},
   "outputs": [],
   "source": [
    "from sklearn.model_selection import train_test_split\n",
    "(X_train,X_test,y_train,y_test)= train_test_split(X,y,test_size=1,train_size=405,random_state=1)"
   ]
  },
  {
   "cell_type": "code",
   "execution_count": 69,
   "id": "dedd9351",
   "metadata": {},
   "outputs": [],
   "source": [
    "X_test=X_test.drop(\"MPG\",axis=1)"
   ]
  },
  {
   "cell_type": "code",
   "execution_count": 71,
   "id": "bae1de51",
   "metadata": {},
   "outputs": [],
   "source": [
    "decisiontree_pred=[]\n",
    "bagged_pred=[]\n",
    "for i in range(1000):\n",
    "    sample_X=X_train.sample(100)\n",
    "    sample_y=sample_X.MPG\n",
    "    sample_X=sample_X.drop(\"MPG\",axis=1)\n",
    "    dt=DecisionTreeRegressor()\n",
    "    dt.fit(sample_X,sample_y)\n",
    "    y_pred_dt=dt.predict(X_test)\n",
    "    decisiontree_pred.append(y_pred_dt)\n",
    "    bagged=BaggingRegressor()\n",
    "    bagged.fit(sample_X,sample_y)\n",
    "    y_pred_bag=bagged.predict(X_test)\n",
    "    bagged_pred.append(y_pred_bag)"
   ]
  },
  {
   "cell_type": "code",
   "execution_count": 72,
   "id": "60c69c23",
   "metadata": {},
   "outputs": [
    {
     "data": {
      "text/plain": [
       "(4.080915797955161, 2.4229064764451804)"
      ]
     },
     "execution_count": 72,
     "metadata": {},
     "output_type": "execute_result"
    }
   ],
   "source": [
    "np.std(decisiontree_pred),np.std(bagged_pred)"
   ]
  },
  {
   "cell_type": "markdown",
   "id": "25439173",
   "metadata": {},
   "source": [
    "**Standard deviation of predicated values for a bagged regressor model is lesser when compared to a decision tree model**"
   ]
  },
  {
   "cell_type": "code",
   "execution_count": null,
   "id": "45d81a04",
   "metadata": {},
   "outputs": [],
   "source": []
  },
  {
   "cell_type": "code",
   "execution_count": null,
   "id": "89b0b11e",
   "metadata": {},
   "outputs": [],
   "source": []
  }
 ],
 "metadata": {
  "kernelspec": {
   "display_name": "Python 3 (ipykernel)",
   "language": "python",
   "name": "python3"
  },
  "language_info": {
   "codemirror_mode": {
    "name": "ipython",
    "version": 3
   },
   "file_extension": ".py",
   "mimetype": "text/x-python",
   "name": "python",
   "nbconvert_exporter": "python",
   "pygments_lexer": "ipython3",
   "version": "3.9.12"
  }
 },
 "nbformat": 4,
 "nbformat_minor": 5
}
