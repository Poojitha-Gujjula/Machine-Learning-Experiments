{
 "cells": [
  {
   "cell_type": "markdown",
   "id": "bb7cc025",
   "metadata": {},
   "source": [
    "**Exp 3:** Using Similar Experiment Compute the variance of 2-NN and 10-NN Model"
   ]
  },
  {
   "cell_type": "code",
   "execution_count": 1,
   "id": "26cfe519",
   "metadata": {},
   "outputs": [],
   "source": [
    "import pandas as pd\n",
    "import numpy as np\n",
    "from random import sample\n",
    "from sklearn.neighbors import KNeighborsRegressor"
   ]
  },
  {
   "cell_type": "code",
   "execution_count": 2,
   "id": "324c1969",
   "metadata": {},
   "outputs": [
    {
     "data": {
      "text/html": [
       "<div>\n",
       "<style scoped>\n",
       "    .dataframe tbody tr th:only-of-type {\n",
       "        vertical-align: middle;\n",
       "    }\n",
       "\n",
       "    .dataframe tbody tr th {\n",
       "        vertical-align: top;\n",
       "    }\n",
       "\n",
       "    .dataframe thead th {\n",
       "        text-align: right;\n",
       "    }\n",
       "</style>\n",
       "<table border=\"1\" class=\"dataframe\">\n",
       "  <thead>\n",
       "    <tr style=\"text-align: right;\">\n",
       "      <th></th>\n",
       "      <th>Car</th>\n",
       "      <th>MPG</th>\n",
       "      <th>Cylinders</th>\n",
       "      <th>Displacement</th>\n",
       "      <th>Horsepower</th>\n",
       "      <th>Weight</th>\n",
       "      <th>Acceleration</th>\n",
       "      <th>Model</th>\n",
       "      <th>Origin</th>\n",
       "    </tr>\n",
       "  </thead>\n",
       "  <tbody>\n",
       "    <tr>\n",
       "      <th>0</th>\n",
       "      <td>Chevrolet Chevelle Malibu</td>\n",
       "      <td>18.0</td>\n",
       "      <td>8</td>\n",
       "      <td>307.0</td>\n",
       "      <td>130</td>\n",
       "      <td>3504</td>\n",
       "      <td>12.0</td>\n",
       "      <td>70</td>\n",
       "      <td>US</td>\n",
       "    </tr>\n",
       "    <tr>\n",
       "      <th>1</th>\n",
       "      <td>Buick Skylark 320</td>\n",
       "      <td>15.0</td>\n",
       "      <td>8</td>\n",
       "      <td>350.0</td>\n",
       "      <td>165</td>\n",
       "      <td>3693</td>\n",
       "      <td>11.5</td>\n",
       "      <td>70</td>\n",
       "      <td>US</td>\n",
       "    </tr>\n",
       "  </tbody>\n",
       "</table>\n",
       "</div>"
      ],
      "text/plain": [
       "                         Car   MPG  Cylinders  Displacement  Horsepower  \\\n",
       "0  Chevrolet Chevelle Malibu  18.0          8         307.0         130   \n",
       "1          Buick Skylark 320  15.0          8         350.0         165   \n",
       "\n",
       "   Weight  Acceleration  Model Origin  \n",
       "0    3504          12.0     70     US  \n",
       "1    3693          11.5     70     US  "
      ]
     },
     "execution_count": 2,
     "metadata": {},
     "output_type": "execute_result"
    }
   ],
   "source": [
    "df = pd.read_csv(r\"C:\\Users\\pooji\\Downloads\\cars.csv\")\n",
    "df.head(2)"
   ]
  },
  {
   "cell_type": "code",
   "execution_count": 3,
   "id": "b7ba33d5",
   "metadata": {},
   "outputs": [],
   "source": [
    "#selecting columns for analysis\n",
    "data=df[[\"Horsepower\",\"Weight\",\"Displacement\",\"MPG\"]]"
   ]
  },
  {
   "cell_type": "code",
   "execution_count": 5,
   "id": "c981cad2",
   "metadata": {},
   "outputs": [
    {
     "data": {
      "text/html": [
       "<div>\n",
       "<style scoped>\n",
       "    .dataframe tbody tr th:only-of-type {\n",
       "        vertical-align: middle;\n",
       "    }\n",
       "\n",
       "    .dataframe tbody tr th {\n",
       "        vertical-align: top;\n",
       "    }\n",
       "\n",
       "    .dataframe thead th {\n",
       "        text-align: right;\n",
       "    }\n",
       "</style>\n",
       "<table border=\"1\" class=\"dataframe\">\n",
       "  <thead>\n",
       "    <tr style=\"text-align: right;\">\n",
       "      <th></th>\n",
       "      <th>Horsepower</th>\n",
       "      <th>Weight</th>\n",
       "      <th>Displacement</th>\n",
       "    </tr>\n",
       "  </thead>\n",
       "  <tbody>\n",
       "    <tr>\n",
       "      <th>362</th>\n",
       "      <td>75</td>\n",
       "      <td>2210</td>\n",
       "      <td>107.0</td>\n",
       "    </tr>\n",
       "  </tbody>\n",
       "</table>\n",
       "</div>"
      ],
      "text/plain": [
       "     Horsepower  Weight  Displacement\n",
       "362          75    2210         107.0"
      ]
     },
     "execution_count": 5,
     "metadata": {},
     "output_type": "execute_result"
    }
   ],
   "source": [
    "test=data.sample(n=1,random_state=1)                            #seperating test obs from training data\n",
    "X_test=test[[\"Horsepower\",\"Weight\",\"Displacement\"]]\n",
    "y_test=test[[\"MPG\"]]\n",
    "X_test"
   ]
  },
  {
   "cell_type": "code",
   "execution_count": 6,
   "id": "23c8f34d",
   "metadata": {},
   "outputs": [
    {
     "data": {
      "text/plain": [
       "(1, 1, 405)"
      ]
     },
     "execution_count": 6,
     "metadata": {},
     "output_type": "execute_result"
    }
   ],
   "source": [
    "train=data[[\"Horsepower\",\"Weight\",\"Displacement\",\"MPG\"]]        \n",
    "train.drop(test.index,inplace=True)\n",
    "len(X_test),len(y_test),len(train)"
   ]
  },
  {
   "cell_type": "code",
   "execution_count": 11,
   "id": "2b927a38",
   "metadata": {},
   "outputs": [
    {
     "name": "stdout",
     "output_type": "stream",
     "text": [
      "9.320536000000002\n"
     ]
    }
   ],
   "source": [
    "y_pred2=[]                                                           #empty list to store all predicted values\n",
    "for i in range(1,101):\n",
    "    sample = train.sample(n=100)                                     #Sampling 100 samples with sample size=100\n",
    "    X_train_sample=sample[[\"Horsepower\",\"Weight\",\"Displacement\"]]\n",
    "    y_train_sample=sample[[\"MPG\"]]\n",
    "    knn=KNeighborsRegressor(metric='euclidean',n_neighbors=2)        #fitting KNN model on each sample  k=2\n",
    "    knn.fit(X_train_sample,y_train_sample)                           #fitting the model\n",
    "    y_pred_2=knn.predict(X_test)                                     #prediction of test observation\n",
    "    y_pred2.append(y_pred_2)\n",
    "print(np.var(y_pred2))"
   ]
  },
  {
   "cell_type": "code",
   "execution_count": 12,
   "id": "9201000b",
   "metadata": {},
   "outputs": [
    {
     "name": "stdout",
     "output_type": "stream",
     "text": [
      "1.6170194400000006\n"
     ]
    }
   ],
   "source": [
    "y_pred10=[]                                                          #empty list to store all predicted values\n",
    "for i in range(1,101):\n",
    "    sample = train.sample(n=100)                                     #Sampling 100 samples with sample size=100\n",
    "    X_train_sample=sample[[\"Horsepower\",\"Weight\",\"Displacement\"]]\n",
    "    y_train_sample=sample[[\"MPG\"]]\n",
    "    knn=KNeighborsRegressor(metric='euclidean',n_neighbors=10)       #fitting KNN model on each sample k = 10\n",
    "    knn.fit(X_train_sample,y_train_sample)                           #fitting the model\n",
    "    y_pred_10=knn.predict(X_test)                                    #prediction of test observation\n",
    "    y_pred10.append(y_pred_10)\n",
    "print(np.var(y_pred10))"
   ]
  },
  {
   "cell_type": "markdown",
   "id": "7dbb0585",
   "metadata": {},
   "source": [
    "**Comment:** KNN model with k=2 has higher variation in the model as for each new observation, the model tries to predict the new target value using only 2 neighbors in the training set. With the obvious influence of the training values, the model attempts to go through almost all data points, which results in overfitting, higher model complexity and therefore higher variance."
   ]
  },
  {
   "cell_type": "code",
   "execution_count": null,
   "id": "09db3504",
   "metadata": {},
   "outputs": [],
   "source": []
  }
 ],
 "metadata": {
  "kernelspec": {
   "display_name": "Python 3 (ipykernel)",
   "language": "python",
   "name": "python3"
  },
  "language_info": {
   "codemirror_mode": {
    "name": "ipython",
    "version": 3
   },
   "file_extension": ".py",
   "mimetype": "text/x-python",
   "name": "python",
   "nbconvert_exporter": "python",
   "pygments_lexer": "ipython3",
   "version": "3.9.15"
  }
 },
 "nbformat": 4,
 "nbformat_minor": 5
}
